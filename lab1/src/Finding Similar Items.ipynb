{
 "cells": [
  {
   "cell_type": "markdown",
   "metadata": {},
   "source": [
    "# Homework 1: Finding Similar Items: Textually Similar Documents\n",
    "\n",
    "Date: 15/11/2021\n",
    "\n",
    "Authors: Alessandro Sanvito and Thuany Karoline Stuart"
   ]
  },
  {
   "cell_type": "markdown",
   "metadata": {},
   "source": [
    "## Set up"
   ]
  },
  {
   "cell_type": "markdown",
   "metadata": {},
   "source": [
    "### Import Libraries"
   ]
  },
  {
   "cell_type": "code",
   "execution_count": 1,
   "metadata": {},
   "outputs": [
    {
     "name": "stderr",
     "output_type": "stream",
     "text": [
      "C:\\virtual_environments\\ml_base_venv\\lib\\site-packages\\numpy\\_distributor_init.py:32: UserWarning: loaded more than 1 DLL from .libs:\n",
      "C:\\virtual_environments\\ml_base_venv\\lib\\site-packages\\numpy\\.libs\\libopenblas.2V74HQ3MKNZHDCKJELIPPY7V6QMK3UOZ.gfortran-win32.dll\n",
      "C:\\virtual_environments\\ml_base_venv\\lib\\site-packages\\numpy\\.libs\\libopenblas.U35RT5X5BPDSH5ZTF276YADQR2KDU6PR.gfortran-win32.dll\n",
      "  stacklevel=1)\n"
     ]
    }
   ],
   "source": [
    "import pandas as pd\n",
    "import numpy as np\n",
    "import seaborn as sns\n",
    "import matplotlib.pyplot as plt\n",
    "import os\n",
    "import time\n",
    "\n",
    "from shingling import *\n",
    "from min_hashing import *\n",
    "from lsh import *\n",
    "from compare_sets import *\n",
    "from compare_signatures import *\n",
    "\n",
    "sns.set_style('whitegrid')"
   ]
  },
  {
   "cell_type": "markdown",
   "metadata": {},
   "source": [
    "### Define Path"
   ]
  },
  {
   "cell_type": "code",
   "execution_count": 2,
   "metadata": {},
   "outputs": [
    {
     "data": {
      "text/plain": [
       "'C:\\\\Users\\\\thuan\\\\Documents\\\\Projects\\\\KTH\\\\ID2222-Data-Mining-Sanvito-Stuart\\\\lab1\\\\data\\\\True.csv'"
      ]
     },
     "execution_count": 2,
     "metadata": {},
     "output_type": "execute_result"
    }
   ],
   "source": [
    "path = os.path.dirname(os.getcwd())\n",
    "data_path = os.path.join(path, 'data', 'True.csv')\n",
    "data_path"
   ]
  },
  {
   "cell_type": "markdown",
   "metadata": {},
   "source": [
    "### Load Data"
   ]
  },
  {
   "cell_type": "code",
   "execution_count": 3,
   "metadata": {},
   "outputs": [
    {
     "data": {
      "text/html": [
       "<div>\n",
       "<style scoped>\n",
       "    .dataframe tbody tr th:only-of-type {\n",
       "        vertical-align: middle;\n",
       "    }\n",
       "\n",
       "    .dataframe tbody tr th {\n",
       "        vertical-align: top;\n",
       "    }\n",
       "\n",
       "    .dataframe thead th {\n",
       "        text-align: right;\n",
       "    }\n",
       "</style>\n",
       "<table border=\"1\" class=\"dataframe\">\n",
       "  <thead>\n",
       "    <tr style=\"text-align: right;\">\n",
       "      <th></th>\n",
       "      <th>title</th>\n",
       "      <th>text</th>\n",
       "      <th>subject</th>\n",
       "      <th>date</th>\n",
       "    </tr>\n",
       "  </thead>\n",
       "  <tbody>\n",
       "    <tr>\n",
       "      <th>0</th>\n",
       "      <td>As U.S. budget fight looms, Republicans flip t...</td>\n",
       "      <td>WASHINGTON (Reuters) - The head of a conservat...</td>\n",
       "      <td>politicsNews</td>\n",
       "      <td>December 31, 2017</td>\n",
       "    </tr>\n",
       "    <tr>\n",
       "      <th>1</th>\n",
       "      <td>U.S. military to accept transgender recruits o...</td>\n",
       "      <td>WASHINGTON (Reuters) - Transgender people will...</td>\n",
       "      <td>politicsNews</td>\n",
       "      <td>December 29, 2017</td>\n",
       "    </tr>\n",
       "    <tr>\n",
       "      <th>2</th>\n",
       "      <td>Senior U.S. Republican senator: 'Let Mr. Muell...</td>\n",
       "      <td>WASHINGTON (Reuters) - The special counsel inv...</td>\n",
       "      <td>politicsNews</td>\n",
       "      <td>December 31, 2017</td>\n",
       "    </tr>\n",
       "    <tr>\n",
       "      <th>3</th>\n",
       "      <td>FBI Russia probe helped by Australian diplomat...</td>\n",
       "      <td>WASHINGTON (Reuters) - Trump campaign adviser ...</td>\n",
       "      <td>politicsNews</td>\n",
       "      <td>December 30, 2017</td>\n",
       "    </tr>\n",
       "    <tr>\n",
       "      <th>4</th>\n",
       "      <td>Trump wants Postal Service to charge 'much mor...</td>\n",
       "      <td>SEATTLE/WASHINGTON (Reuters) - President Donal...</td>\n",
       "      <td>politicsNews</td>\n",
       "      <td>December 29, 2017</td>\n",
       "    </tr>\n",
       "  </tbody>\n",
       "</table>\n",
       "</div>"
      ],
      "text/plain": [
       "                                               title  \\\n",
       "0  As U.S. budget fight looms, Republicans flip t...   \n",
       "1  U.S. military to accept transgender recruits o...   \n",
       "2  Senior U.S. Republican senator: 'Let Mr. Muell...   \n",
       "3  FBI Russia probe helped by Australian diplomat...   \n",
       "4  Trump wants Postal Service to charge 'much mor...   \n",
       "\n",
       "                                                text       subject  \\\n",
       "0  WASHINGTON (Reuters) - The head of a conservat...  politicsNews   \n",
       "1  WASHINGTON (Reuters) - Transgender people will...  politicsNews   \n",
       "2  WASHINGTON (Reuters) - The special counsel inv...  politicsNews   \n",
       "3  WASHINGTON (Reuters) - Trump campaign adviser ...  politicsNews   \n",
       "4  SEATTLE/WASHINGTON (Reuters) - President Donal...  politicsNews   \n",
       "\n",
       "                 date  \n",
       "0  December 31, 2017   \n",
       "1  December 29, 2017   \n",
       "2  December 31, 2017   \n",
       "3  December 30, 2017   \n",
       "4  December 29, 2017   "
      ]
     },
     "execution_count": 3,
     "metadata": {},
     "output_type": "execute_result"
    }
   ],
   "source": [
    "df = pd.read_csv(data_path)\n",
    "df.head()"
   ]
  },
  {
   "cell_type": "code",
   "execution_count": 4,
   "metadata": {},
   "outputs": [
    {
     "name": "stdout",
     "output_type": "stream",
     "text": [
      "Number of documents: 21417\n"
     ]
    }
   ],
   "source": [
    "print(f'Number of documents: {df.shape[0]}')"
   ]
  },
  {
   "cell_type": "markdown",
   "metadata": {},
   "source": [
    "### Select Data"
   ]
  },
  {
   "cell_type": "code",
   "execution_count": 5,
   "metadata": {
    "scrolled": true
   },
   "outputs": [],
   "source": [
    "all_documents = df['title'].values"
   ]
  },
  {
   "cell_type": "markdown",
   "metadata": {},
   "source": [
    "# Experiments"
   ]
  },
  {
   "cell_type": "code",
   "execution_count": 6,
   "metadata": {},
   "outputs": [],
   "source": [
    "THRESHOLD = 0.1\n",
    "SHINGLING_SIZE = 5"
   ]
  },
  {
   "cell_type": "code",
   "execution_count": 7,
   "metadata": {},
   "outputs": [],
   "source": [
    "def get_approximated_similar_items(shingling, documents, band_size):\n",
    "  start = time.time()\n",
    "  \n",
    "  shingling_tokens = map(lambda document: sh.shingling(document, k=SHINGLING_SIZE), documents)\n",
    "  min_hashes = np.array([min_hash(token, 100) for token in shingling_tokens]).T\n",
    "  similar_items = lsh(min_hashes, THRESHOLD, band_size)\n",
    "  \n",
    "  duration = time.time() - start\n",
    "\n",
    "  return duration, similar_items\n",
    "\n",
    "def get_similar_items(shingling, documents):\n",
    "  start = time.time()\n",
    "\n",
    "  shingling_tokens = list(map(lambda document: sh.shingling(document, k=SHINGLING_SIZE), documents))\n",
    "  n = len(documents)\n",
    "  similarities = np.zeros((n, n))\n",
    "\n",
    "  for i in range(n-1):\n",
    "    token_1 = shingling_tokens[i]\n",
    "    for j in range(i + 1, n):\n",
    "      token_2 = shingling_tokens[j]\n",
    "      similarities[i, j] = compare_sets(token_1, token_2)\n",
    "\n",
    "  similar_items = np.argwhere(similarities > THRESHOLD)\n",
    "  duration = time.time() - start\n",
    "  \n",
    "  return duration, similar_items"
   ]
  },
  {
   "cell_type": "markdown",
   "metadata": {},
   "source": [
    "### Similarity Distribution"
   ]
  },
  {
   "cell_type": "code",
   "execution_count": 8,
   "metadata": {},
   "outputs": [],
   "source": [
    "sh = Shingling()\n",
    "n = 1000\n",
    "generator = np.random.default_rng(seed=42)\n",
    "documents = generator.choice(all_documents, n)\n",
    "\n",
    "shingling_tokens = list(map(lambda document: sh.shingling(document, k=SHINGLING_SIZE), documents))\n",
    "similarities = []\n",
    "\n",
    "for i in range(n-1):\n",
    "  token_1 = shingling_tokens[i]\n",
    "  for j in range(i + 1, n):\n",
    "    token_2 = shingling_tokens[j]\n",
    "    similarities.append(compare_sets(token_1, token_2))"
   ]
  },
  {
   "cell_type": "code",
   "execution_count": 9,
   "metadata": {
    "scrolled": false
   },
   "outputs": [
    {
     "data": {
      "image/png": "[encoded data removed]",
      "text/plain": [
       "<Figure size 432x288 with 1 Axes>"
      ]
     },
     "metadata": {},
     "output_type": "display_data"
    }
   ],
   "source": [
    "sns.histplot(x=similarities, bins=100)\n",
    "plt.xlabel(\"Similarity\")\n",
    "plt.show()"
   ]
  },
  {
   "cell_type": "markdown",
   "metadata": {},
   "source": [
    "### Execution Time"
   ]
  },
  {
   "cell_type": "code",
   "execution_count": 10,
   "metadata": {},
   "outputs": [],
   "source": [
    "generator = np.random.default_rng(seed=42)\n",
    "\n",
    "n_documents = [10, 100, 500, 1000, 2000, 3000, 4000, 5000]\n",
    "durations = []\n",
    "approx_durations = []\n",
    "band_size = 50\n",
    "\n",
    "for n in n_documents:\n",
    "  sh = Shingling()\n",
    "  documents = generator.choice(all_documents, n)\n",
    "  \n",
    "  approx_duration, approx_similar_items = get_approximated_similar_items(sh, documents, band_size)\n",
    "  duration, similar_items = get_similar_items(sh, documents)\n",
    "  \n",
    "  approx_durations.append(approx_duration)\n",
    "  durations.append(duration)"
   ]
  },
  {
   "cell_type": "code",
   "execution_count": 11,
   "metadata": {},
   "outputs": [
    {
     "data": {
      "image/png": "[encoded data removed]",
      "text/plain": [
       "<Figure size 432x288 with 1 Axes>"
      ]
     },
     "metadata": {},
     "output_type": "display_data"
    }
   ],
   "source": [
    "plt.plot(n_documents, durations, label='Similar Items')\n",
    "plt.plot(n_documents, approx_durations, label='Approximate Similar Items')\n",
    "plt.xlabel('Number of documents')\n",
    "plt.ylabel('Execution time (s)')\n",
    "plt.legend()\n",
    "plt.show()"
   ]
  },
  {
   "cell_type": "markdown",
   "metadata": {},
   "source": [
    "### Band Size"
   ]
  },
  {
   "cell_type": "code",
   "execution_count": 13,
   "metadata": {},
   "outputs": [],
   "source": [
    "sh = Shingling()\n",
    "generator = np.random.default_rng(seed=42)\n",
    "documents = generator.choice(all_documents, 1000)\n",
    "band_sizes = [5, 10, 20, 30, 40, 50]\n",
    "\n",
    "n_pairs = []\n",
    "approx_n_pairs = []\n",
    "durations = []\n",
    "approx_durations = []\n",
    "\n",
    "for b in band_sizes:\n",
    "  approx_duration, approx_similar_items = get_approximated_similar_items(sh, documents, b)\n",
    "  duration, similar_items = get_similar_items(sh, documents)\n",
    "  \n",
    "  n_pairs.append(len(similar_items))\n",
    "  approx_n_pairs.append(len(approx_similar_items))\n",
    "  \n",
    "  approx_durations.append(approx_duration)\n",
    "  durations.append(duration)"
   ]
  },
  {
   "cell_type": "code",
   "execution_count": 14,
   "metadata": {},
   "outputs": [
    {
     "data": {
      "image/png": "[encoded data removed]",
      "text/plain": [
       "<Figure size 432x288 with 1 Axes>"
      ]
     },
     "metadata": {},
     "output_type": "display_data"
    }
   ],
   "source": [
    "plt.plot(band_sizes, n_pairs, label='Similar Items')\n",
    "plt.plot(band_sizes, approx_n_pairs, label='Approximate Similar Items')\n",
    "plt.ylabel('Number of similar pairs')\n",
    "plt.xlabel('Band size')\n",
    "plt.legend()\n",
    "plt.show()"
   ]
  },
  {
   "cell_type": "code",
   "execution_count": 16,
   "metadata": {},
   "outputs": [
    {
     "data": {
      "image/png": "[encoded data removed]",
      "text/plain": [
       "<Figure size 432x288 with 1 Axes>"
      ]
     },
     "metadata": {},
     "output_type": "display_data"
    }
   ],
   "source": [
    "plt.plot(band_sizes, durations, label='Similar Items')\n",
    "plt.plot(band_sizes, approx_durations, label='Approximate Similar Items')\n",
    "plt.xlabel('Band size')\n",
    "plt.ylabel('Execution time (s)')\n",
    "plt.legend()\n",
    "plt.show()"
   ]
  },
  {
   "cell_type": "code",
   "execution_count": null,
   "metadata": {},
   "outputs": [],
   "source": []
  }
 ],
 "metadata": {
  "kernelspec": {
   "display_name": "ml_base_venv",
   "language": "python",
   "name": "ml_base_venv"
  },
  "language_info": {
   "codemirror_mode": {
    "name": "ipython",
    "version": 3
   },
   "file_extension": ".py",
   "mimetype": "text/x-python",
   "name": "python",
   "nbconvert_exporter": "python",
   "pygments_lexer": "ipython3",
   "version": "3.7.2"
  }
 },
 "nbformat": 4,
 "nbformat_minor": 4
}
